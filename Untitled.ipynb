{
 "cells": [
  {
   "cell_type": "code",
   "execution_count": 1,
   "id": "14d99d29-2bb8-4621-a24f-8b3095e31425",
   "metadata": {},
   "outputs": [],
   "source": [
    "%load_ext autoreload\n",
    "%autoreload 2\n",
    "\n",
    "import os\n",
    "import pandas as pd\n",
    "from data import read_transformed_csv_file, to_hg_dataset\n",
    "from labels import label2index, index2label, tokenize_and_align_labels"
   ]
  },
  {
   "cell_type": "code",
   "execution_count": 2,
   "id": "439dcc35-ba73-4870-bf6e-692df894e797",
   "metadata": {},
   "outputs": [],
   "source": [
    "transformed_train = read_transformed_csv_file()"
   ]
  },
  {
   "cell_type": "code",
   "execution_count": 3,
   "id": "7bc79dce-8d86-4cfd-acca-9fb49595dd4d",
   "metadata": {},
   "outputs": [
    {
     "data": {
      "text/html": [
       "<div>\n",
       "<style scoped>\n",
       "    .dataframe tbody tr th:only-of-type {\n",
       "        vertical-align: middle;\n",
       "    }\n",
       "\n",
       "    .dataframe tbody tr th {\n",
       "        vertical-align: top;\n",
       "    }\n",
       "\n",
       "    .dataframe thead th {\n",
       "        text-align: right;\n",
       "    }\n",
       "</style>\n",
       "<table border=\"1\" class=\"dataframe\">\n",
       "  <thead>\n",
       "    <tr style=\"text-align: right;\">\n",
       "      <th></th>\n",
       "      <th>id</th>\n",
       "      <th>classlist</th>\n",
       "      <th>starts</th>\n",
       "      <th>ends</th>\n",
       "      <th>predictionstrings</th>\n",
       "      <th>text</th>\n",
       "    </tr>\n",
       "  </thead>\n",
       "  <tbody>\n",
       "    <tr>\n",
       "      <th>0</th>\n",
       "      <td>0000D23A521A</td>\n",
       "      <td>['Position', 'Evidence', 'Evidence', 'Claim', ...</td>\n",
       "      <td>[0.0, 170.0, 358.0, 438.0, 627.0, 722.0, 836.0...</td>\n",
       "      <td>[170.0, 357.0, 438.0, 626.0, 722.0, 836.0, 101...</td>\n",
       "      <td>['0 1 2 3 4 5 6 7 8 9 10 11 12 13 14 15 16 17 ...</td>\n",
       "      <td>Some people belive that the so called \"face\" o...</td>\n",
       "    </tr>\n",
       "    <tr>\n",
       "      <th>1</th>\n",
       "      <td>00066EA9880D</td>\n",
       "      <td>['Lead', 'Position', 'Claim', 'Evidence', 'Cla...</td>\n",
       "      <td>[0.0, 456.0, 638.0, 738.0, 1399.0, 1488.0, 231...</td>\n",
       "      <td>[455.0, 592.0, 738.0, 1398.0, 1487.0, 2219.0, ...</td>\n",
       "      <td>['0 1 2 3 4 5 6 7 8 9 10 11 12 13 14 15 16 17 ...</td>\n",
       "      <td>Driverless cars are exaclty what you would exp...</td>\n",
       "    </tr>\n",
       "    <tr>\n",
       "      <th>2</th>\n",
       "      <td>000E6DE9E817</td>\n",
       "      <td>['Position', 'Counterclaim', 'Rebuttal', 'Evid...</td>\n",
       "      <td>[17.0, 64.0, 158.0, 310.0, 438.0, 551.0, 776.0...</td>\n",
       "      <td>[56.0, 157.0, 309.0, 422.0, 551.0, 775.0, 961....</td>\n",
       "      <td>['2 3 4 5 6 7 8', '10 11 12 13 14 15 16 17 18 ...</td>\n",
       "      <td>Dear: Principal\\n\\nI am arguing against the po...</td>\n",
       "    </tr>\n",
       "    <tr>\n",
       "      <th>3</th>\n",
       "      <td>001552828BD0</td>\n",
       "      <td>['Lead', 'Evidence', 'Claim', 'Claim', 'Eviden...</td>\n",
       "      <td>[0.0, 161.0, 872.0, 958.0, 1191.0, 1542.0, 161...</td>\n",
       "      <td>[160.0, 872.0, 957.0, 1190.0, 1541.0, 1612.0, ...</td>\n",
       "      <td>['0 1 2 3 4 5 6 7 8 9 10 11 12 13 14 15 16 17 ...</td>\n",
       "      <td>Would you be able to give your car up? Having ...</td>\n",
       "    </tr>\n",
       "    <tr>\n",
       "      <th>4</th>\n",
       "      <td>0016926B079C</td>\n",
       "      <td>['Position', 'Claim', 'Claim', 'Claim', 'Claim...</td>\n",
       "      <td>[0.0, 58.0, 94.0, 206.0, 236.0, 272.0, 542.0, ...</td>\n",
       "      <td>[57.0, 91.0, 150.0, 235.0, 271.0, 542.0, 650.0...</td>\n",
       "      <td>['0 1 2 3 4 5 6 7 8 9', '10 11 12 13 14 15', '...</td>\n",
       "      <td>I think that students would benefit from learn...</td>\n",
       "    </tr>\n",
       "  </tbody>\n",
       "</table>\n",
       "</div>"
      ],
      "text/plain": [
       "             id                                          classlist  \\\n",
       "0  0000D23A521A  ['Position', 'Evidence', 'Evidence', 'Claim', ...   \n",
       "1  00066EA9880D  ['Lead', 'Position', 'Claim', 'Evidence', 'Cla...   \n",
       "2  000E6DE9E817  ['Position', 'Counterclaim', 'Rebuttal', 'Evid...   \n",
       "3  001552828BD0  ['Lead', 'Evidence', 'Claim', 'Claim', 'Eviden...   \n",
       "4  0016926B079C  ['Position', 'Claim', 'Claim', 'Claim', 'Claim...   \n",
       "\n",
       "                                              starts  \\\n",
       "0  [0.0, 170.0, 358.0, 438.0, 627.0, 722.0, 836.0...   \n",
       "1  [0.0, 456.0, 638.0, 738.0, 1399.0, 1488.0, 231...   \n",
       "2  [17.0, 64.0, 158.0, 310.0, 438.0, 551.0, 776.0...   \n",
       "3  [0.0, 161.0, 872.0, 958.0, 1191.0, 1542.0, 161...   \n",
       "4  [0.0, 58.0, 94.0, 206.0, 236.0, 272.0, 542.0, ...   \n",
       "\n",
       "                                                ends  \\\n",
       "0  [170.0, 357.0, 438.0, 626.0, 722.0, 836.0, 101...   \n",
       "1  [455.0, 592.0, 738.0, 1398.0, 1487.0, 2219.0, ...   \n",
       "2  [56.0, 157.0, 309.0, 422.0, 551.0, 775.0, 961....   \n",
       "3  [160.0, 872.0, 957.0, 1190.0, 1541.0, 1612.0, ...   \n",
       "4  [57.0, 91.0, 150.0, 235.0, 271.0, 542.0, 650.0...   \n",
       "\n",
       "                                   predictionstrings  \\\n",
       "0  ['0 1 2 3 4 5 6 7 8 9 10 11 12 13 14 15 16 17 ...   \n",
       "1  ['0 1 2 3 4 5 6 7 8 9 10 11 12 13 14 15 16 17 ...   \n",
       "2  ['2 3 4 5 6 7 8', '10 11 12 13 14 15 16 17 18 ...   \n",
       "3  ['0 1 2 3 4 5 6 7 8 9 10 11 12 13 14 15 16 17 ...   \n",
       "4  ['0 1 2 3 4 5 6 7 8 9', '10 11 12 13 14 15', '...   \n",
       "\n",
       "                                                text  \n",
       "0  Some people belive that the so called \"face\" o...  \n",
       "1  Driverless cars are exaclty what you would exp...  \n",
       "2  Dear: Principal\\n\\nI am arguing against the po...  \n",
       "3  Would you be able to give your car up? Having ...  \n",
       "4  I think that students would benefit from learn...  "
      ]
     },
     "execution_count": 3,
     "metadata": {},
     "output_type": "execute_result"
    }
   ],
   "source": [
    "transformed_train.head()"
   ]
  },
  {
   "cell_type": "code",
   "execution_count": 13,
   "id": "9b1a407f-fee4-4e9c-a3b5-a963f8b536c0",
   "metadata": {},
   "outputs": [],
   "source": [
    "datasets = to_hg_dataset(transformed_train)"
   ]
  },
  {
   "cell_type": "code",
   "execution_count": 14,
   "id": "d5b2adfd-240d-4369-8453-a048e8952c62",
   "metadata": {},
   "outputs": [
    {
     "data": {
      "text/plain": [
       "DatasetDict({\n",
       "    train: Dataset({\n",
       "        features: ['id', 'classlist', 'starts', 'ends', 'predictionstrings', 'text'],\n",
       "        num_rows: 14034\n",
       "    })\n",
       "    test: Dataset({\n",
       "        features: ['id', 'classlist', 'starts', 'ends', 'predictionstrings', 'text'],\n",
       "        num_rows: 1560\n",
       "    })\n",
       "})"
      ]
     },
     "execution_count": 14,
     "metadata": {},
     "output_type": "execute_result"
    }
   ],
   "source": [
    "datasets"
   ]
  },
  {
   "cell_type": "code",
   "execution_count": 6,
   "id": "047eca3d-9cc0-4cb4-92a5-fb330f3150a7",
   "metadata": {},
   "outputs": [],
   "source": [
    "l2i = label2index()\n",
    "i2l = index2label(l2i)\n",
    "N_LABELS = len(i2l) - 1 # not accounting for -100"
   ]
  },
  {
   "cell_type": "code",
   "execution_count": 7,
   "id": "327873c0-6b51-41b2-b16d-5819ec3580cc",
   "metadata": {},
   "outputs": [
    {
     "data": {
      "text/plain": [
       "15"
      ]
     },
     "execution_count": 7,
     "metadata": {},
     "output_type": "execute_result"
    }
   ],
   "source": [
    "N_LABELS"
   ]
  },
  {
   "cell_type": "code",
   "execution_count": 8,
   "id": "b209708b-abd6-47e2-bc11-6a572be0a571",
   "metadata": {},
   "outputs": [
    {
     "data": {
      "text/plain": [
       "{'B-Lead': 0,\n",
       " 'I-Lead': 7,\n",
       " 'B-Position': 1,\n",
       " 'I-Position': 8,\n",
       " 'B-Evidence': 2,\n",
       " 'I-Evidence': 9,\n",
       " 'B-Claim': 3,\n",
       " 'I-Claim': 10,\n",
       " 'B-Concluding Statement': 4,\n",
       " 'I-Concluding Statement': 11,\n",
       " 'B-Counterclaim': 5,\n",
       " 'I-Counterclaim': 12,\n",
       " 'B-Rebuttal': 6,\n",
       " 'I-Rebuttal': 13,\n",
       " 'O': 14,\n",
       " 'Special': -100}"
      ]
     },
     "execution_count": 8,
     "metadata": {},
     "output_type": "execute_result"
    }
   ],
   "source": [
    "l2i"
   ]
  },
  {
   "cell_type": "code",
   "execution_count": 9,
   "id": "20d2be25-4a24-4209-a119-cc431600bc19",
   "metadata": {},
   "outputs": [],
   "source": [
    "from transformers import AutoTokenizer"
   ]
  },
  {
   "cell_type": "code",
   "execution_count": 10,
   "id": "c66f9186-a017-4892-a7fa-ee50dabba921",
   "metadata": {},
   "outputs": [],
   "source": [
    "model_checkpoint = \"allenai/longformer-base-4096\""
   ]
  },
  {
   "cell_type": "code",
   "execution_count": 11,
   "id": "2890a846-8e32-4c9b-8bd3-347ab4436b5c",
   "metadata": {},
   "outputs": [],
   "source": [
    "tokenizer = AutoTokenizer.from_pretrained(model_checkpoint, add_prefix_space=True)"
   ]
  },
  {
   "cell_type": "code",
   "execution_count": 16,
   "id": "9e17fdfe-d855-4822-a56c-741eefdd3fc9",
   "metadata": {},
   "outputs": [],
   "source": [
    "create_features_labels = lambda x: tokenize_and_align_labels(x, tokenizer, l2i)"
   ]
  },
  {
   "cell_type": "code",
   "execution_count": null,
   "id": "b958ceda-6156-4d14-959c-a32a0346e587",
   "metadata": {},
   "outputs": [
    {
     "data": {
      "application/vnd.jupyter.widget-view+json": {
       "model_id": "2a45c246af1d48cd92e7ec3fb1553ffc",
       "version_major": 2,
       "version_minor": 0
      },
      "text/plain": [
       "  0%|          | 0/1 [00:00<?, ?ba/s]"
      ]
     },
     "metadata": {},
     "output_type": "display_data"
    }
   ],
   "source": [
    "tokenized_datasets = datasets.map(create_features_labels, batched=True, \\\n",
    "                                  batch_size=20000, remove_columns=datasets[\"train\"].column_names)"
   ]
  },
  {
   "cell_type": "code",
   "execution_count": null,
   "id": "2d693d9f-6ed4-4eba-8ffe-2867f88f1c24",
   "metadata": {},
   "outputs": [],
   "source": []
  }
 ],
 "metadata": {
  "kernelspec": {
   "display_name": "Python 3 (ipykernel)",
   "language": "python",
   "name": "python3"
  },
  "language_info": {
   "codemirror_mode": {
    "name": "ipython",
    "version": 3
   },
   "file_extension": ".py",
   "mimetype": "text/x-python",
   "name": "python",
   "nbconvert_exporter": "python",
   "pygments_lexer": "ipython3",
   "version": "3.8.10"
  }
 },
 "nbformat": 4,
 "nbformat_minor": 5
}
