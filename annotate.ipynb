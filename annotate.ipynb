{
 "cells": [
  {
   "cell_type": "code",
   "execution_count": 1,
   "id": "b678fd25-4f2b-4b00-b896-45ee9a9a4a8a",
   "metadata": {},
   "outputs": [],
   "source": [
    "import os \n",
    "MAIN_PATH = '/home/louise/Documents/Python/Workspace/Kaggle/'\n",
    "CSV_FILENAME = \"train.csv\"\n",
    "TRAIN = 'train/'"
   ]
  },
  {
   "cell_type": "code",
   "execution_count": 50,
   "id": "4070a7d2-1e96-42da-bf1d-96764d9a414b",
   "metadata": {},
   "outputs": [],
   "source": [
    "filenames = os.listdir(MAIN_PATH + TRAIN)\n",
    "filenames = [\"FA49F4D9E6A8.txt\"]"
   ]
  },
  {
   "cell_type": "code",
   "execution_count": 3,
   "id": "6bff8cd4-afe2-4392-a796-52a9cc39b881",
   "metadata": {},
   "outputs": [],
   "source": [
    "def read_essay(filename):\n",
    "    with open(MAIN_PATH + TRAIN + filename) as f:\n",
    "        print(f.read())"
   ]
  },
  {
   "cell_type": "code",
   "execution_count": 51,
   "id": "6e1bc031-4a12-4655-b77c-3a4a165be93d",
   "metadata": {},
   "outputs": [
    {
     "data": {
      "application/vnd.jupyter.widget-view+json": {
       "model_id": "a663946b28c44a0789fcafbaebd7ea09",
       "version_major": 2,
       "version_minor": 0
      },
      "text/plain": [
       "HTML(value='0 examples annotated, 2 examples left')"
      ]
     },
     "metadata": {},
     "output_type": "display_data"
    },
    {
     "data": {
      "application/vnd.jupyter.widget-view+json": {
       "model_id": "4473e0b328d84170a04b5a57758e8b72",
       "version_major": 2,
       "version_minor": 0
      },
      "text/plain": [
       "Textarea(value='')"
      ]
     },
     "metadata": {},
     "output_type": "display_data"
    },
    {
     "data": {
      "application/vnd.jupyter.widget-view+json": {
       "model_id": "c6c46cc0b2fd41d28d1dea2e58cb7a15",
       "version_major": 2,
       "version_minor": 0
      },
      "text/plain": [
       "HBox(children=(Button(description='submit', style=ButtonStyle()), Button(description='skip', style=ButtonStyle…"
      ]
     },
     "metadata": {},
     "output_type": "display_data"
    },
    {
     "data": {
      "application/vnd.jupyter.widget-view+json": {
       "model_id": "494286858aef4ead93460537ce21acf4",
       "version_major": 2,
       "version_minor": 0
      },
      "text/plain": [
       "Output()"
      ]
     },
     "metadata": {},
     "output_type": "display_data"
    }
   ],
   "source": [
    "from pigeon import annotate\n",
    "annotations = annotate(\n",
    "    filenames,\n",
    "    display_fn=lambda filename: read_essay(filename),    \n",
    ")"
   ]
  },
  {
   "cell_type": "code",
   "execution_count": 18,
   "id": "9b852e38-9138-43fd-a122-0d7dc8e769b5",
   "metadata": {},
   "outputs": [],
   "source": [
    "all_topics = {anno[1] for anno in annotations}"
   ]
  },
  {
   "cell_type": "code",
   "execution_count": 19,
   "id": "b10bee44-d186-45d7-afc8-349e1e62842b",
   "metadata": {},
   "outputs": [
    {
     "data": {
      "text/plain": [
       "{'American Elections',\n",
       " 'American elections',\n",
       " 'Ask for advice',\n",
       " 'Ask for opinion',\n",
       " 'Cellphones at School',\n",
       " 'Cellphones at school',\n",
       " 'Community Service',\n",
       " 'Distance Learning',\n",
       " 'Distance learning',\n",
       " 'Driverless cars',\n",
       " 'Driving with Phone',\n",
       " 'Electoral College',\n",
       " 'Extra Activity',\n",
       " 'FACS',\n",
       " 'Face of Mars',\n",
       " 'Grace Policy',\n",
       " 'Grade Policy',\n",
       " 'Help people',\n",
       " 'No more cars',\n",
       " 'Seagoing Cowboys',\n",
       " 'Summer Projects',\n",
       " 'Venus'}"
      ]
     },
     "execution_count": 19,
     "metadata": {},
     "output_type": "execute_result"
    }
   ],
   "source": [
    "all_topics"
   ]
  },
  {
   "cell_type": "code",
   "execution_count": 20,
   "id": "7ed51eef-d316-40a7-9b20-97f9ea8c36de",
   "metadata": {},
   "outputs": [
    {
     "data": {
      "text/plain": [
       "22"
      ]
     },
     "execution_count": 20,
     "metadata": {},
     "output_type": "execute_result"
    }
   ],
   "source": [
    "len(all_topics)"
   ]
  },
  {
   "cell_type": "code",
   "execution_count": 38,
   "id": "caf71ad1-82cc-4b3a-a97d-ff00b0203f4d",
   "metadata": {},
   "outputs": [],
   "source": []
  },
  {
   "cell_type": "code",
   "execution_count": 39,
   "id": "ada74a74-b53c-4ba6-969f-c6bd2c234373",
   "metadata": {},
   "outputs": [],
   "source": [
    "all_topics = {anno[1] for anno in annotations}"
   ]
  },
  {
   "cell_type": "code",
   "execution_count": 40,
   "id": "f1cbdea6-d8b4-442a-a4b6-fdd1b95c0059",
   "metadata": {},
   "outputs": [
    {
     "data": {
      "text/plain": [
       "{'Extra activity',\n",
       " None,\n",
       " 'Phone and drive',\n",
       " 'Seagoing cowboys',\n",
       " 'Summer projects'}"
      ]
     },
     "execution_count": 40,
     "metadata": {},
     "output_type": "execute_result"
    }
   ],
   "source": [
    "all_topics"
   ]
  },
  {
   "cell_type": "code",
   "execution_count": 42,
   "id": "8237085b-685f-450c-b4de-1d5a5828e7ce",
   "metadata": {},
   "outputs": [],
   "source": []
  },
  {
   "cell_type": "code",
   "execution_count": 44,
   "id": "1dceba2b-c15f-418c-bc56-3b1c2b83137d",
   "metadata": {},
   "outputs": [],
   "source": [
    "def update_topic(s: str):\n",
    "    if s == 'American Elections' or s == 'Electoral College':\n",
    "        return 'American elections'\n",
    "    elif s == 'Ask for opinion':\n",
    "        return 'Ask for advice'\n",
    "    elif s == 'Cellphones at School':\n",
    "        return 'Cellphones at school'\n",
    "    elif s == 'Distance Learning':\n",
    "        return 'Distance learning'\n",
    "    elif s == 'Face of Mars':\n",
    "        return 'Face on Mars'\n",
    "    elif s == 'Grace Policy' or s == 'Grade Policy':\n",
    "        return 'Grade policy'\n",
    "    elif s == 'Help people':\n",
    "        return 'Seagoing cowboys'\n",
    "    elif s == 'Summer Projects':\n",
    "        return 'Summer projects'\n",
    "    elif s == 'Driving with Phone':\n",
    "        return 'Phone and drive'\n",
    "    elif s == 'Extra Activity':\n",
    "        return 'Extra activity'\n",
    "    elif s == 'Seagoing Cowboys':\n",
    "        return 'Seagoing cowboys'\n",
    "    elif s == 'Community Service':\n",
    "        return 'Community service'\n",
    "    else:\n",
    "        return s\n",
    "\n",
    "annotations = [(anno[0], update_topic(anno[1])) for anno in annotations]"
   ]
  },
  {
   "cell_type": "code",
   "execution_count": 46,
   "id": "e3c1ddad-8167-43ea-b0c2-122a20e9325f",
   "metadata": {},
   "outputs": [],
   "source": [
    "run = True\n",
    "if run:\n",
    "    import pickle\n",
    "    with open(\"topics.txt\", \"wb\") as fp:\n",
    "        pickle.dump(annotations, fp)"
   ]
  },
  {
   "cell_type": "code",
   "execution_count": 47,
   "id": "0e9c6256-f7ed-470e-8e94-e44e4d5a05f1",
   "metadata": {},
   "outputs": [],
   "source": [
    "with open(\"topics.txt\", \"rb\") as fp:\n",
    "    b = pickle.load(fp)"
   ]
  },
  {
   "cell_type": "code",
   "execution_count": 49,
   "id": "e662bf88-c3ea-4cf6-bf11-abd2886c26a5",
   "metadata": {},
   "outputs": [
    {
     "data": {
      "text/plain": [
       "[('D450BF08BE17.txt', 'Distance learning'),\n",
       " ('C0E55316F183.txt', 'American elections'),\n",
       " ('6166AF313473.txt', 'Community service'),\n",
       " ('F70EC9F33AAA.txt', 'Cellphones at school'),\n",
       " ('94208F2B5E80.txt', 'Grade policy'),\n",
       " ('74B1F4463091.txt', 'Face on Mars'),\n",
       " ('FC9DA73D1EA0.txt', 'Distance learning'),\n",
       " ('E2D4914989F4.txt', 'Grade policy'),\n",
       " ('C3811E7F1750.txt', 'Phone and drive'),\n",
       " ('7D92AFA8EB0C.txt', 'Ask for advice'),\n",
       " ('56556D40C8B4.txt', 'Face on Mars'),\n",
       " ('C5E79E6868E6.txt', 'Face on Mars'),\n",
       " ('C09A881E26D8.txt', 'Summer projects'),\n",
       " ('D6BDA0F9F006.txt', 'Summer projects'),\n",
       " ('2F656E04AC84.txt', 'Distance learning'),\n",
       " ('7AAE019F70D6.txt', 'Extra activity'),\n",
       " ('75DD90F67191.txt', 'Face on Mars'),\n",
       " ('B38CEB26C2AB.txt', 'Ask for advice'),\n",
       " ('071BF63AF332.txt', 'Extra activity'),\n",
       " ('E4FC29A88EDD.txt', 'Driverless cars'),\n",
       " ('D73D85780CE1.txt', 'No more cars'),\n",
       " ('2B683EE1691A.txt', 'Cellphones at school'),\n",
       " ('4E1C636ABEAD.txt', 'Phone and drive'),\n",
       " ('E392F8BC3F93.txt', 'Cellphones at school'),\n",
       " ('8C61F2374230.txt', 'Summer projects'),\n",
       " ('46DBC71B9B37.txt', 'No more cars'),\n",
       " ('81122C8AD46A.txt', 'Grade policy'),\n",
       " ('A4AC757E8206.txt', 'Summer projects'),\n",
       " ('D9A51EAE079C.txt', 'Driverless cars'),\n",
       " ('C3C371CA957E.txt', 'FACS'),\n",
       " ('AFED7787CD81.txt', 'Community service'),\n",
       " ('CE98789F502B.txt', 'Phone and drive'),\n",
       " ('A0181C244D0D.txt', 'Driverless cars'),\n",
       " ('8CAB591721EC.txt', 'Phone and drive'),\n",
       " ('C4E2EF38E029.txt', 'Summer projects'),\n",
       " ('262D4488693E.txt', 'Grade policy'),\n",
       " ('7D681EE99FF3.txt', 'American elections'),\n",
       " ('B48302EAFB68.txt', 'Grade policy'),\n",
       " ('28C1E6A5576E.txt', 'American elections'),\n",
       " ('CCABE8EEA6F1.txt', 'Face on Mars'),\n",
       " ('CC067F0DC876.txt', 'Community service'),\n",
       " ('57E8161AEF27.txt', 'Distance learning'),\n",
       " ('534353848265.txt', 'Summer projects'),\n",
       " ('615327268670.txt', 'Distance learning'),\n",
       " ('B760F98AB4A8.txt', 'Driverless cars'),\n",
       " ('3F400A7BC136.txt', 'Phone and drive'),\n",
       " ('61A0FEA827E4.txt', 'Summer projects'),\n",
       " ('AD4CDEA8D87E.txt', 'Venus'),\n",
       " ('08A6AD8C775B.txt', 'Face on Mars'),\n",
       " ('24BCEBE0EEF1.txt', 'Cellphones at school'),\n",
       " ('CBAA8BE6A251.txt', 'Driverless cars'),\n",
       " ('2AAA5F2F5270.txt', 'Distance learning'),\n",
       " ('B402430B0616.txt', 'Distance learning'),\n",
       " ('A8C8456C352B.txt', 'FACS'),\n",
       " ('0FC32E083BDE.txt', 'Ask for advice'),\n",
       " ('0BB4037BFB98.txt', 'Distance learning'),\n",
       " ('D685AF55953A.txt', 'Face on Mars'),\n",
       " ('2FF01AA49B76.txt', 'Summer projects'),\n",
       " ('B1703E8A7555.txt', 'Summer projects'),\n",
       " ('8E6CB58E9762.txt', 'American elections'),\n",
       " ('CE9EB0366069.txt', 'Summer projects'),\n",
       " ('B6D4400A3B06.txt', 'Ask for advice'),\n",
       " ('23701C1FBDD2.txt', 'FACS'),\n",
       " ('BAC681996825.txt', 'No more cars'),\n",
       " ('02AEBAE6EC47.txt', 'Ask for advice'),\n",
       " ('76684944F17B.txt', 'Face on Mars'),\n",
       " ('A4F0BACE1010.txt', 'FACS'),\n",
       " ('66CBBA95F7C0.txt', 'Summer projects'),\n",
       " ('8B7E97D3310D.txt', 'Seagoing cowboys'),\n",
       " ('02A202213790.txt', 'FACS'),\n",
       " ('22E583DA7364.txt', 'Distance learning'),\n",
       " ('50DD653D6378.txt', 'Driverless cars'),\n",
       " ('47D8EACFF91F.txt', 'Distance learning'),\n",
       " ('6F7CCB64354C.txt', 'Grade policy'),\n",
       " ('C1EAD0C50570.txt', 'Extra activity'),\n",
       " ('D35AE4A7CE83.txt', 'Ask for advice'),\n",
       " ('05F30981F3EB.txt', 'Distance learning'),\n",
       " ('46E51980E4FB.txt', 'No more cars'),\n",
       " ('828FD0B64062.txt', 'American elections'),\n",
       " ('A6440604EC36.txt', 'Cellphones at school'),\n",
       " ('D7B12358DBA3.txt', 'Distance learning'),\n",
       " ('EFA46BC5A89A.txt', 'FACS'),\n",
       " ('A9FE240AEBCA.txt', 'Extra activity'),\n",
       " ('A25EE918057D.txt', 'Venus'),\n",
       " ('B0F3FA7DE6CE.txt', 'Distance learning'),\n",
       " ('38B7875D420E.txt', 'Distance learning'),\n",
       " ('52A9658B9B58.txt', 'Venus'),\n",
       " ('F1AFDB5CEB25.txt', 'FACS'),\n",
       " ('75818DBD4DA2.txt', 'FACS'),\n",
       " ('C74D540B715B.txt', 'Cellphones at school'),\n",
       " ('00F87647163F.txt', 'Seagoing cowboys'),\n",
       " ('2EFAF4CE944E.txt', 'Ask for advice'),\n",
       " ('04D10F678D31.txt', 'Ask for advice'),\n",
       " ('30C6A72F5821.txt', 'American elections'),\n",
       " ('8CC7B096772C.txt', 'No more cars'),\n",
       " ('8D2688E8706E.txt', 'Driverless cars'),\n",
       " ('C2766158A80A.txt', 'Driverless cars'),\n",
       " ('466103CE7D5D.txt', 'Extra activity'),\n",
       " ('D52095AEF0B1.txt', 'Distance learning'),\n",
       " ('46183881BE11.txt', 'Grade policy'),\n",
       " ('6BC10E78A82B.txt', 'Ask for advice'),\n",
       " ('3F8C6F9EBDEB.txt', 'Seagoing cowboys'),\n",
       " ('9A413399B420.txt', 'Face on Mars'),\n",
       " ('A394F82B98D2.txt', 'Venus'),\n",
       " ('08CC837C9EC3.txt', 'American elections'),\n",
       " ('55D42942C90D.txt', 'American elections'),\n",
       " ('8FF749312D49.txt', 'Venus'),\n",
       " ('2AD8A9FEE4C0.txt', 'Distance learning'),\n",
       " ('11BEB30F68EA.txt', 'Ask for advice'),\n",
       " ('AE5D214AAC85.txt', 'Community service'),\n",
       " ('E2BCA7B63A7E.txt', 'No more cars'),\n",
       " ('B78FDCCC587F.txt', 'Seagoing cowboys'),\n",
       " ('1EA525C7EBF3.txt', 'No more cars'),\n",
       " ('12C40C11C57C.txt', 'Distance learning'),\n",
       " ('C1A5212A7E96.txt', 'Distance learning'),\n",
       " ('B3249050C067.txt', 'American elections'),\n",
       " ('6628A09382F8.txt', 'Phone and drive'),\n",
       " ('309BE8E1DCF1.txt', 'Grade policy'),\n",
       " ('21A359FEFC20.txt', 'Seagoing cowboys'),\n",
       " ('507CBD8E9670.txt', 'Venus'),\n",
       " ('FF162F4E5289.txt', 'Seagoing cowboys'),\n",
       " ('8F7D96205308.txt', 'Face on Mars'),\n",
       " ('8498B3A8642D.txt', 'Distance learning'),\n",
       " ('3DAC64829E27.txt', 'Distance learning'),\n",
       " ('D2ACE090B6E0.txt', 'Face on Mars'),\n",
       " ('A4CFAAD6FB8E.txt', 'Face on Mars'),\n",
       " ('AB199403D486.txt', 'Venus'),\n",
       " ('72D301D87A46.txt', 'Face on Mars'),\n",
       " ('EE440E670405.txt', 'Grade policy'),\n",
       " ('2083E1A7DEE8.txt', 'Cellphones at school'),\n",
       " ('F92664C55FBB.txt', 'Phone and drive'),\n",
       " ('E6B964D51793.txt', 'Grade policy'),\n",
       " ('F74C46C14E72.txt', 'American elections'),\n",
       " ('7BCFD0C9880F.txt', 'Summer projects'),\n",
       " ('FFF868E06176.txt', 'Summer projects'),\n",
       " ('599AE9FD7B94.txt', 'Grade policy'),\n",
       " ('CDDCA15C29E7.txt', 'Venus'),\n",
       " ('9451FC111896.txt', 'Ask for advice'),\n",
       " ('9A7C858EF23B.txt', 'Cellphones at school'),\n",
       " ('A1975B6DDD44.txt', 'Seagoing cowboys'),\n",
       " ('3EE4F2B2B160.txt', 'Extra activity'),\n",
       " ('584A4BB1E954.txt', 'Summer projects'),\n",
       " ('02D889D32DF5.txt', 'Driverless cars'),\n",
       " ('E827A459B025.txt', 'Summer projects'),\n",
       " ('071E1B145717.txt', 'Cellphones at school'),\n",
       " ('95BB6960C1FC.txt', 'Community service'),\n",
       " ('201EB1D0F1D5.txt', 'Cellphones at school'),\n",
       " ('19ACF5B15261.txt', 'American elections'),\n",
       " ('300B76F37D8E.txt', 'Grade policy'),\n",
       " ('B396296EF19F.txt', 'American elections'),\n",
       " ('1DD339DE06D4.txt', 'Cellphones at school'),\n",
       " ('949F1FCAE7A6.txt', 'FACS'),\n",
       " ('838A96E95C09.txt', 'Ask for advice'),\n",
       " ('BB33169642C3.txt', 'Grade policy'),\n",
       " ('5EEA3BC97307.txt', 'FACS'),\n",
       " ('D930E883CCBC.txt', 'No more cars'),\n",
       " ('998A405C5352.txt', 'Face on Mars'),\n",
       " ('DD9AC1B2A5F0.txt', 'Seagoing cowboys'),\n",
       " ('05FFBFA9B3BA.txt', 'Cellphones at school'),\n",
       " ('5B6F224A710F.txt', 'Grade policy'),\n",
       " ('CE646B8AFAB9.txt', 'American elections'),\n",
       " ('1EA405C55AD1.txt', 'Face on Mars'),\n",
       " ('EBC108B0E57E.txt', 'Cellphones at school'),\n",
       " ('2589CDBE363E.txt', 'American elections'),\n",
       " ('B8164EA79177.txt', 'Community service'),\n",
       " ('DA246835767B.txt', 'Seagoing cowboys'),\n",
       " ('FF410031A764.txt', 'Extra activity'),\n",
       " ('126BF47F3939.txt', 'FACS'),\n",
       " ('D8C149300D31.txt', 'Distance learning'),\n",
       " ('F35BE53F93D9.txt', 'Ask for advice'),\n",
       " ('D92E4A5DAA55.txt', 'Extra activity'),\n",
       " ('EC591630ED15.txt', 'Ask for advice'),\n",
       " ('CE47E51746E3.txt', 'No more cars'),\n",
       " ('54AA3CF403CC.txt', 'Distance learning'),\n",
       " ('02F74331C369.txt', 'Cellphones at school'),\n",
       " ('B59B6731525B.txt', 'Ask for advice'),\n",
       " ('89DC0A7461A6.txt', 'FACS'),\n",
       " ('8F4B595CF9E7.txt', 'Ask for advice'),\n",
       " ('4E0179E2F024.txt', 'American elections'),\n",
       " ('EF08234FA6BE.txt', 'Seagoing cowboys'),\n",
       " ('EB6C2AF20BFE.txt', 'Ask for advice'),\n",
       " ('D4F74B3F2A23.txt', 'Seagoing cowboys'),\n",
       " ('56D513B3BBD4.txt', 'Phone and drive'),\n",
       " ('E21AE194E6C7.txt', 'Driverless cars'),\n",
       " ('98B35B64B4F7.txt', 'FACS'),\n",
       " ('934168169D89.txt', 'Ask for advice'),\n",
       " ('155CAAB3DC95.txt', 'Ask for advice'),\n",
       " ('F456A60E18DD.txt', 'Phone and drive'),\n",
       " ('302578B02AF9.txt', 'Distance learning'),\n",
       " ('441A5D13BCF3.txt', 'American elections'),\n",
       " ('19B5612E4AC4.txt', 'Cellphones at school'),\n",
       " ('2DBEF4ED29DC.txt', 'No more cars'),\n",
       " ('9DEEBD8ED853.txt', 'Seagoing cowboys'),\n",
       " ('710819DE9003.txt', 'Community service'),\n",
       " ('12E38F117303.txt', 'American elections'),\n",
       " ('B2F8D6D0CB9D.txt', 'American elections'),\n",
       " ('27347E260F1C.txt', 'Community service'),\n",
       " ('91FA9C603A6B.txt', 'Distance learning'),\n",
       " ('7B0474D327FA.txt', 'Driverless cars'),\n",
       " ('5BDF483698A5.txt', 'Ask for advice'),\n",
       " ('10C8E486AE3C.txt', 'Face on Mars'),\n",
       " ('5681C8C42F1B.txt', 'Seagoing cowboys'),\n",
       " ('58F2F77D8FD6.txt', 'FACS'),\n",
       " ('AE47AB399CF4.txt', 'Cellphones at school'),\n",
       " ('8AEDFCDF7246.txt', 'American elections'),\n",
       " ('2A4221CE52DC.txt', 'Distance learning'),\n",
       " ('84F4ACD3C467.txt', 'Face on Mars'),\n",
       " ('8A8D7134E77C.txt', 'Distance learning'),\n",
       " ('5613F9FB2154.txt', 'Phone and drive'),\n",
       " ('62E441E58EC2.txt', 'Summer projects'),\n",
       " ('1B622A28EDD9.txt', 'Distance learning'),\n",
       " ('E5D3FE626DEA.txt', 'No more cars'),\n",
       " ('6A977849DE08.txt', 'Ask for advice'),\n",
       " ('B91B697EB28E.txt', 'No more cars'),\n",
       " ('4B7AC1471316.txt', 'Seagoing cowboys'),\n",
       " ('37FED48BEDBD.txt', 'Ask for advice'),\n",
       " ('7B33F5CB5EE1.txt', 'Venus'),\n",
       " ('1C3B06789FCB.txt', 'Distance learning'),\n",
       " ('D5D31918A943.txt', 'Phone and drive'),\n",
       " ('B3AB4E6C5678.txt', 'Cellphones at school'),\n",
       " ('23F613EA5253.txt', 'American elections'),\n",
       " ('5D47B9B734D2.txt', 'Driverless cars'),\n",
       " ('CED4ADA9A012.txt', 'Community service'),\n",
       " ('7B52C05A4BDB.txt', 'Summer projects'),\n",
       " ('043CEF390B3E.txt', 'Distance learning'),\n",
       " ('18DFC8ABFA92.txt', 'Distance learning'),\n",
       " ('ABF484B46756.txt', 'Extra activity'),\n",
       " ('4DF55925F544.txt', 'No more cars'),\n",
       " ('2844FD2BF83B.txt', 'Distance learning'),\n",
       " ('DF4A18C70D2A.txt', 'Ask for advice'),\n",
       " ('A89206A14C39.txt', 'Distance learning'),\n",
       " ('057DACBB2B12.txt', 'American elections'),\n",
       " ('13BD2F675384.txt', 'Cellphones at school'),\n",
       " ('F54276730F7A.txt', 'Summer projects'),\n",
       " ('1D620B5FACBD.txt', 'Venus'),\n",
       " ('9205D8CB863F.txt', 'Driverless cars'),\n",
       " ('F7CD45B0F896.txt', 'Seagoing cowboys'),\n",
       " ('A05FF40CA89A.txt', 'Face on Mars'),\n",
       " ('38F506B031E1.txt', 'FACS'),\n",
       " ('AA994A6CAF65.txt', 'Phone and drive'),\n",
       " ('C06F7CD8DD21.txt', 'American elections'),\n",
       " ('F48EF80D2ED3.txt', 'Seagoing cowboys'),\n",
       " ('759AFC5BD52A.txt', 'Summer projects'),\n",
       " ('CF794C60C928.txt', 'Cellphones at school'),\n",
       " ('EC3DD758D9F0.txt', 'Venus'),\n",
       " ('1B4BA44BD3E9.txt', 'FACS'),\n",
       " ('EE1078DB877C.txt', 'Summer projects'),\n",
       " ('7EB7891E8D16.txt', 'Cellphones at school'),\n",
       " ('AB40FE03226A.txt', 'American elections'),\n",
       " ('B216794ACCCA.txt', 'Venus'),\n",
       " ('BE090988C5A1.txt', 'Phone and drive'),\n",
       " ('575107B10B0B.txt', 'American elections'),\n",
       " ('0AF5343C0F78.txt', 'FACS'),\n",
       " ('ECAD3D8FAB97.txt', 'Community service'),\n",
       " ('36D35B8A7915.txt', 'No more cars'),\n",
       " ('1F048BD82695.txt', 'Driverless cars'),\n",
       " ('124C24EE768C.txt', 'Grade policy'),\n",
       " ('88C9F52F748F.txt', 'Ask for advice'),\n",
       " ('D38815C5F013.txt', 'Cellphones at school'),\n",
       " ('F1CAD58CA0CE.txt', 'Summer projects'),\n",
       " ('8296F0F59F3D.txt', 'Grade policy'),\n",
       " ('2666D24076F8.txt', 'Face on Mars'),\n",
       " ('6D3A10BF5F80.txt', 'Seagoing cowboys'),\n",
       " ('2B09B90BECB2.txt', 'Venus'),\n",
       " ('1FE6D3E74838.txt', 'Community service'),\n",
       " ('759C3FAFA8BF.txt', 'Summer projects'),\n",
       " ('0BED0C651932.txt', 'Phone and drive'),\n",
       " ('1463D1D9EC8F.txt', 'Extra activity'),\n",
       " ('0BCA18283DBE.txt', 'Distance learning'),\n",
       " ('82BBC3EC5C3A.txt', 'Community service'),\n",
       " ('FC4E9C36D5BC.txt', 'FACS'),\n",
       " ('9560CB5AD3D1.txt', 'Distance learning'),\n",
       " ('AD86E73E978B.txt', 'Seagoing cowboys'),\n",
       " ('B7BD520BE938.txt', 'Ask for advice'),\n",
       " ('5C29D02F268A.txt', 'American elections'),\n",
       " ('51B8712EF620.txt', 'Summer projects'),\n",
       " ('FF4C6C6FDB91.txt', 'Cellphones at school'),\n",
       " ('F2D9DA6E635A.txt', 'Ask for advice'),\n",
       " ('01AEAC17451B.txt', 'Phone and drive'),\n",
       " ('E6202748A28E.txt', 'American elections'),\n",
       " ('E3830AB95CD7.txt', 'Phone and drive'),\n",
       " ('821EFD80EE4D.txt', 'Face on Mars'),\n",
       " ('BC8ABD92AC4D.txt', 'Grade policy'),\n",
       " ('D7247C1BB949.txt', 'American elections'),\n",
       " ('E16916B78B8F.txt', 'Distance learning'),\n",
       " ('A67C8BEE3935.txt', 'No more cars'),\n",
       " ('DA2D885A25C8.txt', 'Cellphones at school'),\n",
       " ('79CDFD13AE8D.txt', 'Distance learning'),\n",
       " ('F17279F65DCE.txt', 'Ask for advice'),\n",
       " ('5FE588C6DDB5.txt', 'American elections'),\n",
       " ('EFE31525B288.txt', 'Ask for advice'),\n",
       " ('822A901609CD.txt', 'Cellphones at school'),\n",
       " ('5A9A37FD3820.txt', 'Venus'),\n",
       " ('26432FDB0644.txt', 'Summer projects'),\n",
       " ('CB7BC04EF923.txt', 'Distance learning'),\n",
       " ('54C324EE765F.txt', 'American elections'),\n",
       " ('893B6A0CDB2D.txt', 'Ask for advice'),\n",
       " ('34A5BD11F79F.txt', 'No more cars'),\n",
       " ('DAF474E5E711.txt', 'Extra activity'),\n",
       " ('97EB461DC531.txt', 'Seagoing cowboys')]"
      ]
     },
     "execution_count": 49,
     "metadata": {},
     "output_type": "execute_result"
    }
   ],
   "source": [
    "b"
   ]
  }
 ],
 "metadata": {
  "kernelspec": {
   "display_name": "Python 3 (ipykernel)",
   "language": "python",
   "name": "python3"
  },
  "language_info": {
   "codemirror_mode": {
    "name": "ipython",
    "version": 3
   },
   "file_extension": ".py",
   "mimetype": "text/x-python",
   "name": "python",
   "nbconvert_exporter": "python",
   "pygments_lexer": "ipython3",
   "version": "3.8.10"
  }
 },
 "nbformat": 4,
 "nbformat_minor": 5
}
