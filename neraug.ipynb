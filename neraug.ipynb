{
 "cells": [
  {
   "cell_type": "code",
   "execution_count": 2,
   "id": "f48d8cd2-28fb-4d75-9703-8fb338cbfbb7",
   "metadata": {},
   "outputs": [],
   "source": [
    "from neraug.augmentator import DictionaryReplacement\n",
    "from neraug.scheme import IOBES\n"
   ]
  },
  {
   "cell_type": "code",
   "execution_count": null,
   "id": "a801adcb-b307-4fd6-b58a-07290fc0c986",
   "metadata": {},
   "outputs": [],
   "source": []
  }
 ],
 "metadata": {
  "kernelspec": {
   "display_name": "Python 3 (ipykernel)",
   "language": "python",
   "name": "python3"
  },
  "language_info": {
   "codemirror_mode": {
    "name": "ipython",
    "version": 3
   },
   "file_extension": ".py",
   "mimetype": "text/x-python",
   "name": "python",
   "nbconvert_exporter": "python",
   "pygments_lexer": "ipython3",
   "version": "3.8.10"
  }
 },
 "nbformat": 4,
 "nbformat_minor": 5
}
