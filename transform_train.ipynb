{
 "cells": [
  {
   "cell_type": "code",
   "execution_count": 9,
   "id": "8dcd3b04-ab44-450c-a8b5-4a3f4bccc506",
   "metadata": {},
   "outputs": [
    {
     "name": "stdout",
     "output_type": "stream",
     "text": [
      "The autoreload extension is already loaded. To reload it, use:\n",
      "  %reload_ext autoreload\n"
     ]
    }
   ],
   "source": [
    "%load_ext autoreload\n",
    "%autoreload 2\n",
    "\n",
    "import os\n",
    "import pandas as pd\n",
    "from data import read_csv_file, read_transformed_csv_file, get_transformed_raw_dataset, to_hg_dataset\n",
    "from labels import label2index, index2label, tokenize_and_align_labels"
   ]
  },
  {
   "cell_type": "code",
   "execution_count": 10,
   "id": "4bb458b3-5a8c-47a4-ac5c-029ded00c16b",
   "metadata": {},
   "outputs": [],
   "source": [
    "CSV_FILENAME = \"corrected_train.csv\"\n",
    "TRAIN = 'train/'"
   ]
  },
  {
   "cell_type": "code",
   "execution_count": 11,
   "id": "526dc3dd-7459-41aa-9129-13dc3d843585",
   "metadata": {},
   "outputs": [],
   "source": [
    "train = read_csv_file(csv_filename=CSV_FILENAME)"
   ]
  },
  {
   "cell_type": "code",
   "execution_count": 13,
   "id": "982c2ed0-b7a2-47d3-add7-5bf4b274aab5",
   "metadata": {},
   "outputs": [],
   "source": [
    "correct_transform = get_transformed_raw_dataset(train,\n",
    "                                                filename=\"correct_one_single_train.csv\", \n",
    "                                                class_type='discourse_type',\n",
    "                                                start='new_start',\n",
    "                                                end='new_end',\n",
    "                                                predstring='new_predictionstring',\n",
    "                                                save=True\n",
    "                                               )\n"
   ]
  },
  {
   "cell_type": "code",
   "execution_count": null,
   "id": "1ed17ffd-8625-46f5-a61b-034e23c44ad7",
   "metadata": {},
   "outputs": [],
   "source": []
  }
 ],
 "metadata": {
  "kernelspec": {
   "display_name": "Python 3 (ipykernel)",
   "language": "python",
   "name": "python3"
  },
  "language_info": {
   "codemirror_mode": {
    "name": "ipython",
    "version": 3
   },
   "file_extension": ".py",
   "mimetype": "text/x-python",
   "name": "python",
   "nbconvert_exporter": "python",
   "pygments_lexer": "ipython3",
   "version": "3.8.10"
  }
 },
 "nbformat": 4,
 "nbformat_minor": 5
}
