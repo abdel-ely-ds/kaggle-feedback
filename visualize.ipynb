{
 "cells": [
  {
   "cell_type": "code",
   "execution_count": 20,
   "id": "60eff714-bff1-4695-a477-f9e164c78746",
   "metadata": {},
   "outputs": [
    {
     "name": "stdout",
     "output_type": "stream",
     "text": [
      "The autoreload extension is already loaded. To reload it, use:\n",
      "  %reload_ext autoreload\n"
     ]
    }
   ],
   "source": [
    "%load_ext autoreload\n",
    "%autoreload 2\n",
    "\n",
    "import os\n",
    "import pandas as pd\n",
    "from data import read_csv_file, read_transformed_csv_file, get_transformed_raw_dataset, get_raw_text\n",
    "from visualize import visualize\n",
    "import ast"
   ]
  },
  {
   "cell_type": "code",
   "execution_count": 5,
   "id": "a3ecd5aa-1c71-42cb-826d-d914047c0ff8",
   "metadata": {},
   "outputs": [],
   "source": [
    "transformed_data = read_transformed_csv_file()"
   ]
  },
  {
   "cell_type": "code",
   "execution_count": 9,
   "id": "1b434c85-8ea6-495d-8720-d61a0bfff42e",
   "metadata": {},
   "outputs": [],
   "source": [
    "filenames = os.listdir(MAIN_PATH + TRAIN)"
   ]
  },
  {
   "cell_type": "code",
   "execution_count": 11,
   "id": "629d7126-169e-4227-8969-4464ecae62e5",
   "metadata": {},
   "outputs": [
    {
     "data": {
      "text/html": [
       "<div>\n",
       "<style scoped>\n",
       "    .dataframe tbody tr th:only-of-type {\n",
       "        vertical-align: middle;\n",
       "    }\n",
       "\n",
       "    .dataframe tbody tr th {\n",
       "        vertical-align: top;\n",
       "    }\n",
       "\n",
       "    .dataframe thead th {\n",
       "        text-align: right;\n",
       "    }\n",
       "</style>\n",
       "<table border=\"1\" class=\"dataframe\">\n",
       "  <thead>\n",
       "    <tr style=\"text-align: right;\">\n",
       "      <th></th>\n",
       "      <th>id</th>\n",
       "      <th>classlist</th>\n",
       "      <th>starts</th>\n",
       "      <th>ends</th>\n",
       "      <th>predictionstrings</th>\n",
       "      <th>text</th>\n",
       "    </tr>\n",
       "  </thead>\n",
       "  <tbody>\n",
       "    <tr>\n",
       "      <th>0</th>\n",
       "      <td>0000D23A521A</td>\n",
       "      <td>['Position', 'Evidence', 'Evidence', 'Claim', ...</td>\n",
       "      <td>[0.0, 170.0, 358.0, 438.0, 627.0, 722.0, 836.0...</td>\n",
       "      <td>[170.0, 357.0, 438.0, 626.0, 722.0, 836.0, 101...</td>\n",
       "      <td>['0 1 2 3 4 5 6 7 8 9 10 11 12 13 14 15 16 17 ...</td>\n",
       "      <td>Some people belive that the so called \"face\" o...</td>\n",
       "    </tr>\n",
       "    <tr>\n",
       "      <th>1</th>\n",
       "      <td>00066EA9880D</td>\n",
       "      <td>['Lead', 'Position', 'Claim', 'Evidence', 'Cla...</td>\n",
       "      <td>[0.0, 456.0, 638.0, 738.0, 1399.0, 1488.0, 231...</td>\n",
       "      <td>[455.0, 592.0, 738.0, 1398.0, 1487.0, 2219.0, ...</td>\n",
       "      <td>['0 1 2 3 4 5 6 7 8 9 10 11 12 13 14 15 16 17 ...</td>\n",
       "      <td>Driverless cars are exaclty what you would exp...</td>\n",
       "    </tr>\n",
       "    <tr>\n",
       "      <th>2</th>\n",
       "      <td>000E6DE9E817</td>\n",
       "      <td>['Position', 'Counterclaim', 'Rebuttal', 'Evid...</td>\n",
       "      <td>[17.0, 64.0, 158.0, 310.0, 438.0, 551.0, 776.0...</td>\n",
       "      <td>[56.0, 157.0, 309.0, 422.0, 551.0, 775.0, 961....</td>\n",
       "      <td>['2 3 4 5 6 7 8', '10 11 12 13 14 15 16 17 18 ...</td>\n",
       "      <td>Dear: Principal\\n\\nI am arguing against the po...</td>\n",
       "    </tr>\n",
       "    <tr>\n",
       "      <th>3</th>\n",
       "      <td>001552828BD0</td>\n",
       "      <td>['Lead', 'Evidence', 'Claim', 'Claim', 'Eviden...</td>\n",
       "      <td>[0.0, 161.0, 872.0, 958.0, 1191.0, 1542.0, 161...</td>\n",
       "      <td>[160.0, 872.0, 957.0, 1190.0, 1541.0, 1612.0, ...</td>\n",
       "      <td>['0 1 2 3 4 5 6 7 8 9 10 11 12 13 14 15 16 17 ...</td>\n",
       "      <td>Would you be able to give your car up? Having ...</td>\n",
       "    </tr>\n",
       "    <tr>\n",
       "      <th>4</th>\n",
       "      <td>0016926B079C</td>\n",
       "      <td>['Position', 'Claim', 'Claim', 'Claim', 'Claim...</td>\n",
       "      <td>[0.0, 58.0, 94.0, 206.0, 236.0, 272.0, 542.0, ...</td>\n",
       "      <td>[57.0, 91.0, 150.0, 235.0, 271.0, 542.0, 650.0...</td>\n",
       "      <td>['0 1 2 3 4 5 6 7 8 9', '10 11 12 13 14 15', '...</td>\n",
       "      <td>I think that students would benefit from learn...</td>\n",
       "    </tr>\n",
       "  </tbody>\n",
       "</table>\n",
       "</div>"
      ],
      "text/plain": [
       "             id  ...                                               text\n",
       "0  0000D23A521A  ...  Some people belive that the so called \"face\" o...\n",
       "1  00066EA9880D  ...  Driverless cars are exaclty what you would exp...\n",
       "2  000E6DE9E817  ...  Dear: Principal\\n\\nI am arguing against the po...\n",
       "3  001552828BD0  ...  Would you be able to give your car up? Having ...\n",
       "4  0016926B079C  ...  I think that students would benefit from learn...\n",
       "\n",
       "[5 rows x 6 columns]"
      ]
     },
     "execution_count": 11,
     "metadata": {},
     "output_type": "execute_result"
    }
   ],
   "source": [
    "transformed_data.head()"
   ]
  },
  {
   "cell_type": "code",
   "execution_count": 22,
   "id": "7fbae45d-745a-4eb4-8c09-d0e45d522140",
   "metadata": {},
   "outputs": [],
   "source": [
    "transformed_data['starts'] = transformed_data.starts.apply(ast.literal_eval)\n",
    "transformed_data['ends'] = transformed_data.ends.apply(ast.literal_eval)\n",
    "transformed_data['classlist'] = transformed_data.classlist.apply(ast.literal_eval)"
   ]
  },
  {
   "cell_type": "code",
   "execution_count": null,
   "id": "6f0acc83-4799-4866-b01b-6fc596d7eb4b",
   "metadata": {},
   "outputs": [],
   "source": []
  },
  {
   "cell_type": "code",
   "execution_count": 57,
   "id": "2351fb8c-24b3-4cec-9924-62448b06c4cb",
   "metadata": {},
   "outputs": [],
   "source": [
    "text_id = transformed_data.iloc[8000]['id']\n",
    "\n",
    "text = get_raw_text(text_id)"
   ]
  },
  {
   "cell_type": "code",
   "execution_count": 58,
   "id": "a0133344-467c-4546-844f-296602c3160b",
   "metadata": {},
   "outputs": [
    {
     "data": {
      "text/html": [
       "<span class=\"tex2jax_ignore\"><h2 style=\"margin: 0\">83F0695E035E</h2>\n",
       "\n",
       "<div class=\"entities\" style=\"line-height: 2.5; direction: ltr\">\n",
       "<mark class=\"entity\" style=\"background: #2b7ff6; padding: 0.45em 0.6em; margin: 0 0.25em; line-height: 1; border-radius: 0.35em;\">\n",
       "    We should get rid of the electoral college\n",
       "    <span style=\"font-size: 0.8em; font-weight: bold; line-height: 1; border-radius: 0.35em; vertical-align: middle; margin-left: 0.5rem\">Position</span>\n",
       "</mark>\n",
       " \n",
       "<mark class=\"entity\" style=\"background: #2adddd; padding: 0.45em 0.6em; margin: 0 0.25em; line-height: 1; border-radius: 0.35em;\">\n",
       "    because with the electoral college when we vote we aren't actually voting for the who we want to take over as president of the United States. We are voting for electors that help to elect the president. Under the electoral college system, voters do not vote for the president, but for a slate of electors, who in turn elect the president. Therefore, many of us could be dissapointed by the outcome of who has been elected. For example if you wanted to elect John Kerry, you would vote for 34 democratic electors pledged to John Kerry\n",
       "    <span style=\"font-size: 0.8em; font-weight: bold; line-height: 1; border-radius: 0.35em; vertical-align: middle; margin-left: 0.5rem\">Evidence</span>\n",
       "</mark>\n",
       ".\n",
       "<mark class=\"entity\" style=\"background: #80ffb4; padding: 0.45em 0.6em; margin: 0 0.25em; line-height: 1; border-radius: 0.35em;\">\n",
       "     I believe we should just stick with popular vote for the president because then it is only fair.\n",
       "    <span style=\"font-size: 0.8em; font-weight: bold; line-height: 1; border-radius: 0.35em; vertical-align: middle; margin-left: 0.5rem\">Claim</span>\n",
       "</mark>\n",
       " \n",
       "<mark class=\"entity\" style=\"background: #2adddd; padding: 0.45em 0.6em; margin: 0 0.25em; line-height: 1; border-radius: 0.35em;\">\n",
       "    We would vote and which ever political leader got the most votes is the one who takes over in office. Who pick the electors in the first place? depending on the state, sometimes state conventions, state party's central committee, and sometimes even the presedential candiates themselves. Also, voters can't control who their electors vote for and they get confused about the electors and vote for the wrong candidate. The single best argument against the electoral college is that it is called the disaster factor. The electoral college is unfair to voters because of the winner-take-all system in each state. its official the electoral college is unfair, outdated and irrational.\n",
       "    <span style=\"font-size: 0.8em; font-weight: bold; line-height: 1; border-radius: 0.35em; vertical-align: middle; margin-left: 0.5rem\">Evidence</span>\n",
       "</mark>\n",
       " \n",
       "<mark class=\"entity\" style=\"background: #ff8042; padding: 0.45em 0.6em; margin: 0 0.25em; line-height: 1; border-radius: 0.35em;\">\n",
       "    Some people may argue that we should keep it\n",
       "    <span style=\"font-size: 0.8em; font-weight: bold; line-height: 1; border-radius: 0.35em; vertical-align: middle; margin-left: 0.5rem\">Counterclaim</span>\n",
       "</mark>\n",
       " \n",
       "<mark class=\"entity\" style=\"background: #2adddd; padding: 0.45em 0.6em; margin: 0 0.25em; line-height: 1; border-radius: 0.35em;\">\n",
       "    because of 1.) The certainty of outcome 2.) Everyone's president 3.) Swing states 4.) big states and 5.) Avoid run-off elections. It is argued that the Electoral College method of selecting the president may turn off potential voters for a candidate that has no hope of carrying their state. Democrats in Texas, for example, or Republicans in California. Knowing their vote will have no effect, they have less incentive to pay attention to the campaign than they would have if the president was picked by poular vote. Each party selects a slate of electors trusted to vote for the party's nominee..\n",
       "    <span style=\"font-size: 0.8em; font-weight: bold; line-height: 1; border-radius: 0.35em; vertical-align: middle; margin-left: 0.5rem\">Evidence</span>\n",
       "</mark>\n",
       ".\n",
       "<mark class=\"entity\" style=\"background: #ff0000; padding: 0.45em 0.6em; margin: 0 0.25em; line-height: 1; border-radius: 0.35em;\">\n",
       "    however it is entirely possible that the winner of the electoral vote will not win the national popular vote.\n",
       "    <span style=\"font-size: 0.8em; font-weight: bold; line-height: 1; border-radius: 0.35em; vertical-align: middle; margin-left: 0.5rem\">Rebuttal</span>\n",
       "</mark>\n",
       " \n",
       "<mark class=\"entity\" style=\"background: #2adddd; padding: 0.45em 0.6em; margin: 0 0.25em; line-height: 1; border-radius: 0.35em;\">\n",
       "    The Electoral College is widley known as an anachronism, a non-democratic method of selecting a president that ought to be overruled by delcaring the candidate who recieves the most popular votes the winner. The Electoral College method is not Democratic in a modern sense...it is the electors who elect the president, not the people. When you vote for a presidential candidate your actually voting for a slate of electors. Perhaps there is a tie in the electoral vote, then, the election would be thrown to the House of Representives, where state delegations vote on the president.\n",
       "    <span style=\"font-size: 0.8em; font-weight: bold; line-height: 1; border-radius: 0.35em; vertical-align: middle; margin-left: 0.5rem\">Evidence</span>\n",
       "</mark>\n",
       " \n",
       "<mark class=\"entity\" style=\"background: #80ffb4; padding: 0.45em 0.6em; margin: 0 0.25em; line-height: 1; border-radius: 0.35em;\">\n",
       "    If thats the case then i definetley think we should overthrow the Electoral College because then the election is now in their hands which means we have no control over who is elected at all, it is an unfair process that needs to be taken care of.\n",
       "    <span style=\"font-size: 0.8em; font-weight: bold; line-height: 1; border-radius: 0.35em; vertical-align: middle; margin-left: 0.5rem\">Claim</span>\n",
       "</mark>\n",
       " \n",
       "<mark class=\"entity\" style=\"background: #2adddd; padding: 0.45em 0.6em; margin: 0 0.25em; line-height: 1; border-radius: 0.35em;\">\n",
       "    The election is only a few swing voters away from catastrophe. Consider that state legislators are technically responsible for picking electors, and thos electors could always defy the will of the people. Back in 1960, segregationists in the Louisiana legislature nearly succeeded in replacing the Democratic electors with new electors who would oppose John F. Kennedy. So that a popular vote for Kennedy would not have actually gone to kennedy. In the same vein, &quot;faithless&quot; electors have occasionally refused to vote for their party's candidate and cast a deciding vote for whomever they please. Over 60% of voters would prefer a direct election to the kind we have now. This year voters can expect another close election in which the popular vote winner could again lose the presidency. Yet, the Electoral College still has its defenders. Each candidate running for president in your state has his or her own group of electors. The electors are generally chosen by the candidate's political party, but state laws vary on how the electors are selected and what their responsibilities are. \n",
       "    <span style=\"font-size: 0.8em; font-weight: bold; line-height: 1; border-radius: 0.35em; vertical-align: middle; margin-left: 0.5rem\">Evidence</span>\n",
       "</mark>\n",
       "Now that i have made my point, I would like to add that my opinion isn't the only one that matters but I am positive there are plenty of other people around that agree with my decision.\n",
       "<mark class=\"entity\" style=\"background: d4dd80; padding: 0.45em 0.6em; margin: 0 0.25em; line-height: 1; border-radius: 0.35em;\">\n",
       "     I believe that we should overthrow the Electoral College because it is the most unfair way of voting for our presidential representive and we have no way of controlling it.    \n",
       "    <span style=\"font-size: 0.8em; font-weight: bold; line-height: 1; border-radius: 0.35em; vertical-align: middle; margin-left: 0.5rem\">Concluding Statement</span>\n",
       "</mark>\n",
       "</div></span>"
      ],
      "text/plain": [
       "<IPython.core.display.HTML object>"
      ]
     },
     "metadata": {},
     "output_type": "display_data"
    }
   ],
   "source": [
    "visualize(transformed_data, text_id, text)"
   ]
  },
  {
   "cell_type": "code",
   "execution_count": null,
   "id": "b9980827-f369-4c84-a792-196471b30e7c",
   "metadata": {},
   "outputs": [],
   "source": []
  }
 ],
 "metadata": {
  "kernelspec": {
   "display_name": "Python 3 (ipykernel)",
   "language": "python",
   "name": "python3"
  },
  "language_info": {
   "codemirror_mode": {
    "name": "ipython",
    "version": 3
   },
   "file_extension": ".py",
   "mimetype": "text/x-python",
   "name": "python",
   "nbconvert_exporter": "python",
   "pygments_lexer": "ipython3",
   "version": "3.8.10"
  }
 },
 "nbformat": 4,
 "nbformat_minor": 5
}
